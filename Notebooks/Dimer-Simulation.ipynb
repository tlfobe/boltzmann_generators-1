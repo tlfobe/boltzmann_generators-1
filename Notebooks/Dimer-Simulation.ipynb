{
 "cells": [
  {
   "cell_type": "code",
   "execution_count": 3,
   "metadata": {},
   "outputs": [],
   "source": [
    "import sys\n",
    "sys.path.append(\"../Library/simulations\")\n",
    "\n",
    "import simulation_library\n",
    "import potentials\n",
    "import integrators\n",
    "import data_logging\n",
    "import numpy as np\n",
    "import matplotlib.pyplot as plt\n",
    "import matplotlib.animation as animation\n",
    "import visuals\n",
    "\n",
    "plt.style.use(\"ggplot\")\n",
    "%matplotlib inline\n",
    "system_builder = simulation_library.SystemFactory()"
   ]
  },
  {
   "cell_type": "markdown",
   "metadata": {},
   "source": [
    "# Dimer in LJ Bath\n"
   ]
  },
  {
   "cell_type": "code",
   "execution_count": 4,
   "metadata": {},
   "outputs": [],
   "source": [
    "system_MD = system_builder.build_system(dim = 2, T = 1, rho = 0.7, N = 36, potential = \"LJ-rep\", sigma = 1, epsilon = 1, r_c = 2)\n",
    "system_MD.add_bond(potentials.DoubleWellPotential1D(1.5, 25, 10, -0.5), system_MD.particles[0], system_MD.particles[1])\n",
    "system_MD.bonds[0].particle_interactions = False"
   ]
  },
  {
   "cell_type": "code",
   "execution_count": 5,
   "metadata": {},
   "outputs": [],
   "source": [
    "system_MD.get_integrator(\"verlet_neighbors\", dt = 0.0001, r_nl = 2.5)\n",
    "# system_MD.get_thermostat(\"anderson\", T = 1, colisions = 0.01, freq = 100)"
   ]
  },
  {
   "cell_type": "code",
   "execution_count": 6,
   "metadata": {},
   "outputs": [],
   "source": [
    "coordinate_logger_MD = data_logging.CoordinateLogger(system_MD, 50)\n",
    "energy_logger_MD = data_logging.EnergyLogger(system_MD, 100)\n",
    "temp_logger_MD = data_logging.TemperatureLogger(system_MD, 100)\n",
    "dist_logger_MD = data_logging.DistanceLogger(system_MD, 100)\n",
    "system_MD.registerObserver(coordinate_logger_MD)\n",
    "system_MD.registerObserver(energy_logger_MD)\n",
    "system_MD.registerObserver(temp_logger_MD)\n",
    "system_MD.registerObserver(dist_logger_MD)"
   ]
  },
  {
   "cell_type": "code",
   "execution_count": null,
   "metadata": {},
   "outputs": [],
   "source": [
    "system_MD.run(100000)"
   ]
  },
  {
   "cell_type": "code",
   "execution_count": null,
   "metadata": {},
   "outputs": [],
   "source": [
    "plt.figure(figsize = [7,5])\n",
    "plt.scatter(*system_MD.get_coordinates().T, s = 400)\n",
    "plt.plot([system_MD.particles[0].loc[0], system_MD.particles[1].loc[0]], [system_MD.particles[0].loc[1], system_MD.particles[1].loc[1]], lw = 10)\n",
    "plt.xlabel(\"X axis\")\n",
    "plt.ylabel(\"Y axis\")"
   ]
  },
  {
   "cell_type": "code",
   "execution_count": null,
   "metadata": {},
   "outputs": [],
   "source": [
    "x_traj = np.array(coordinate_logger_MD.coordinates)\n",
    "print(x_traj.shape)\n",
    "visuals.make_2D_traj(x_traj, system_MD.box, markersize= 30, color = \"red\")"
   ]
  },
  {
   "cell_type": "code",
   "execution_count": null,
   "metadata": {},
   "outputs": [],
   "source": [
    "plt.plot(energy_logger_MD.steps, energy_logger_MD.H)\n",
    "plt.plot(energy_logger_MD.steps, energy_logger_MD.U)\n",
    "plt.plot(energy_logger_MD.steps, energy_logger_MD.K)\n",
    "plt.legend([\"Total\", \"Potential\", \"Kinetic\"])"
   ]
  },
  {
   "cell_type": "code",
   "execution_count": null,
   "metadata": {},
   "outputs": [],
   "source": [
    "plt.plot(energy_logger_MD.steps, energy_logger_MD.U)"
   ]
  },
  {
   "cell_type": "code",
   "execution_count": null,
   "metadata": {},
   "outputs": [],
   "source": [
    "plt.plot(temp_logger_MD.steps, temp_logger_MD.T)"
   ]
  },
  {
   "cell_type": "code",
   "execution_count": null,
   "metadata": {},
   "outputs": [],
   "source": [
    "x = np.linspace(0.5, 2.5, 30)\n",
    "y = np.array([system_MD.bonds[0].potential(x)]).reshape(-1)\n",
    "fig, ax1 = plt.subplots()\n",
    "ax2 = ax1.twinx()\n",
    "ax1.set_xlabel(\"Dimer Distance\")\n",
    "ax1.set_ylabel(\"Counts\", color = \"red\")\n",
    "ax1.hist(np.array(dist_logger_MD.d).reshape(-1, 1), bins = 40, color = \"red\")\n",
    "ax1.tick_params(axis='y')\n",
    "\n",
    "\n",
    "ax2.plot(x,y, color = \"blue\")\n",
    "ax2.set_ylabel(\"Bond Energy\", color=\"blue\")\n",
    "ax2.tick_params(axis='y')"
   ]
  },
  {
   "cell_type": "markdown",
   "metadata": {},
   "source": [
    "# Dimer in LJ Bath (Metropolis Sampling)"
   ]
  },
  {
   "cell_type": "code",
   "execution_count": 14,
   "metadata": {},
   "outputs": [
    {
     "ename": "NameError",
     "evalue": "name 'system_MD2' is not defined",
     "output_type": "error",
     "traceback": [
      "\u001b[0;31m---------------------------------------------------------------------------\u001b[0m",
      "\u001b[0;31mNameError\u001b[0m                                 Traceback (most recent call last)",
      "\u001b[0;32m<ipython-input-14-5055401ef3bd>\u001b[0m in \u001b[0;36m<module>\u001b[0;34m\u001b[0m\n\u001b[1;32m      1\u001b[0m \u001b[0msystem_MC\u001b[0m \u001b[0;34m=\u001b[0m \u001b[0msystem_builder\u001b[0m\u001b[0;34m.\u001b[0m\u001b[0mbuild_system\u001b[0m\u001b[0;34m(\u001b[0m\u001b[0mdim\u001b[0m \u001b[0;34m=\u001b[0m \u001b[0;36m2\u001b[0m\u001b[0;34m,\u001b[0m \u001b[0mT\u001b[0m \u001b[0;34m=\u001b[0m \u001b[0;36m1\u001b[0m\u001b[0;34m,\u001b[0m \u001b[0mrho\u001b[0m \u001b[0;34m=\u001b[0m \u001b[0;36m1\u001b[0m\u001b[0;34m,\u001b[0m \u001b[0mN\u001b[0m \u001b[0;34m=\u001b[0m \u001b[0;36m36\u001b[0m\u001b[0;34m,\u001b[0m \u001b[0mpotential\u001b[0m \u001b[0;34m=\u001b[0m \u001b[0;34m\"LJ-rep\"\u001b[0m\u001b[0;34m,\u001b[0m \u001b[0msigma\u001b[0m \u001b[0;34m=\u001b[0m \u001b[0;36m1\u001b[0m\u001b[0;34m,\u001b[0m \u001b[0mepsilon\u001b[0m \u001b[0;34m=\u001b[0m \u001b[0;36m1\u001b[0m\u001b[0;34m,\u001b[0m \u001b[0mr_c\u001b[0m \u001b[0;34m=\u001b[0m \u001b[0;36m2\u001b[0m\u001b[0;34m,\u001b[0m \u001b[0mboundary_conditions\u001b[0m \u001b[0;34m=\u001b[0m \u001b[0;34m\"none\"\u001b[0m\u001b[0;34m)\u001b[0m\u001b[0;34m\u001b[0m\u001b[0;34m\u001b[0m\u001b[0m\n\u001b[1;32m      2\u001b[0m \u001b[0msystem_MC\u001b[0m\u001b[0;34m.\u001b[0m\u001b[0madd_bond\u001b[0m\u001b[0;34m(\u001b[0m\u001b[0mpotentials\u001b[0m\u001b[0;34m.\u001b[0m\u001b[0mDoubleWellPotential1D\u001b[0m\u001b[0;34m(\u001b[0m\u001b[0;36m1.5\u001b[0m\u001b[0;34m,\u001b[0m \u001b[0;36m25\u001b[0m\u001b[0;34m,\u001b[0m \u001b[0;36m10\u001b[0m\u001b[0;34m,\u001b[0m \u001b[0;34m-\u001b[0m\u001b[0;36m0.5\u001b[0m\u001b[0;34m)\u001b[0m\u001b[0;34m,\u001b[0m \u001b[0msystem_MC\u001b[0m\u001b[0;34m.\u001b[0m\u001b[0mparticles\u001b[0m\u001b[0;34m[\u001b[0m\u001b[0;36m0\u001b[0m\u001b[0;34m]\u001b[0m\u001b[0;34m,\u001b[0m \u001b[0msystem_MC\u001b[0m\u001b[0;34m.\u001b[0m\u001b[0mparticles\u001b[0m\u001b[0;34m[\u001b[0m\u001b[0;36m1\u001b[0m\u001b[0;34m]\u001b[0m\u001b[0;34m)\u001b[0m\u001b[0;34m\u001b[0m\u001b[0;34m\u001b[0m\u001b[0m\n\u001b[0;32m----> 3\u001b[0;31m \u001b[0msystem_builder\u001b[0m\u001b[0;34m.\u001b[0m\u001b[0madd_central_potential\u001b[0m\u001b[0;34m(\u001b[0m\u001b[0msystem_MD2\u001b[0m\u001b[0;34m,\u001b[0m \u001b[0;34m\"harmonic_box\"\u001b[0m\u001b[0;34m,\u001b[0m \u001b[0ml_box\u001b[0m \u001b[0;34m=\u001b[0m \u001b[0msystem_MD2\u001b[0m\u001b[0;34m.\u001b[0m\u001b[0mbox\u001b[0m\u001b[0;34m,\u001b[0m \u001b[0mk_box\u001b[0m \u001b[0;34m=\u001b[0m \u001b[0;36m100\u001b[0m\u001b[0;34m)\u001b[0m\u001b[0;34m\u001b[0m\u001b[0;34m\u001b[0m\u001b[0m\n\u001b[0m\u001b[1;32m      4\u001b[0m \u001b[0msystem_MC\u001b[0m\u001b[0;34m.\u001b[0m\u001b[0mbonds\u001b[0m\u001b[0;34m[\u001b[0m\u001b[0;36m0\u001b[0m\u001b[0;34m]\u001b[0m\u001b[0;34m.\u001b[0m\u001b[0mparticle_interactions\u001b[0m \u001b[0;34m=\u001b[0m \u001b[0;32mFalse\u001b[0m\u001b[0;34m\u001b[0m\u001b[0;34m\u001b[0m\u001b[0m\n\u001b[1;32m      5\u001b[0m \u001b[0msystem_MC\u001b[0m\u001b[0;34m.\u001b[0m\u001b[0mget_integrator\u001b[0m\u001b[0;34m(\u001b[0m\u001b[0;34m\"metropolis\"\u001b[0m\u001b[0;34m,\u001b[0m \u001b[0;32mNone\u001b[0m\u001b[0;34m,\u001b[0m \u001b[0mtemp\u001b[0m \u001b[0;34m=\u001b[0m \u001b[0;36m1\u001b[0m\u001b[0;34m,\u001b[0m \u001b[0msigma\u001b[0m \u001b[0;34m=\u001b[0m \u001b[0;36m0.02\u001b[0m\u001b[0;34m,\u001b[0m \u001b[0madjust_sigma\u001b[0m \u001b[0;34m=\u001b[0m \u001b[0;32mFalse\u001b[0m\u001b[0;34m)\u001b[0m\u001b[0;34m\u001b[0m\u001b[0;34m\u001b[0m\u001b[0m\n",
      "\u001b[0;31mNameError\u001b[0m: name 'system_MD2' is not defined"
     ]
    }
   ],
   "source": [
    "system_MC = system_builder.build_system(dim = 2, T = 1, rho = 1, N = 36, potential = \"LJ-rep\", sigma = 1, epsilon = 1, r_c = 2, boundary_conditions = \"none\")\n",
    "system_MC.add_bond(potentials.DoubleWellPotential1D(1.5, 25, 10, -0.5), system_MC.particles[0], system_MC.particles[1])\n",
    "system_builder.add_central_potential(system_MD2, \"harmonic_box\", l_box = system_MD2.box, k_box = 100)\n",
    "system_MC.bonds[0].particle_interactions = False\n",
    "system_MC.get_integrator(\"metropolis\", None, temp = 1, sigma = 0.02, adjust_sigma = False)"
   ]
  },
  {
   "cell_type": "code",
   "execution_count": null,
   "metadata": {},
   "outputs": [],
   "source": [
    "coordinate_logger_MC = data_logging.CoordinateLogger(system_MC, 50)\n",
    "energy_logger_MC = data_logging.EnergyLogger(system_MC, 100)\n",
    "dist_logger_MC = data_logging.DistanceLogger(system_MC, 100)\n",
    "system_MC.registerObserver(coordinate_logger_MC)\n",
    "system_MC.registerObserver(energy_logger_MC)\n",
    "system_MC.registerObserver(dist_logger_MC)"
   ]
  },
  {
   "cell_type": "code",
   "execution_count": null,
   "metadata": {},
   "outputs": [],
   "source": [
    "system_MC.run(100000)"
   ]
  },
  {
   "cell_type": "code",
   "execution_count": null,
   "metadata": {},
   "outputs": [],
   "source": [
    "plt.figure(figsize = [7,5])\n",
    "plt.scatter(*system_MC.get_coordinates().T, s = 400)\n",
    "plt.plot([system_MC.particles[0].loc[0], system_MC.particles[1].loc[0]], [system_MC.particles[0].loc[1], system_MC.particles[1].loc[1]], lw = 10)\n",
    "plt.xlabel(\"X axis\")\n",
    "plt.ylabel(\"Y axis\")"
   ]
  },
  {
   "cell_type": "code",
   "execution_count": null,
   "metadata": {},
   "outputs": [],
   "source": [
    "x_traj = np.array(coordinate_logger_MC.coordinates)\n",
    "print(x_traj.shape)\n",
    "visuals.make_2D_traj(x_traj, system_MC.box, markersize= 30, color = \"red\")"
   ]
  },
  {
   "cell_type": "code",
   "execution_count": null,
   "metadata": {},
   "outputs": [],
   "source": [
    "plt.plot(energy_logger_MC.steps, energy_logger_MC.H)\n",
    "plt.legend([\"Total\", \"Potential\", \"Kinetic\"])"
   ]
  },
  {
   "cell_type": "code",
   "execution_count": null,
   "metadata": {},
   "outputs": [],
   "source": [
    "x = np.linspace(0.5, 2.5, 30)\n",
    "y = np.array([system_MC.bonds[0].potential(x)]).reshape(-1)\n",
    "fig, ax1 = plt.subplots()\n",
    "ax2 = ax1.twinx()\n",
    "ax1.set_xlabel(\"Dimer Distance\")\n",
    "ax1.set_ylabel(\"Counts\", color = \"red\")\n",
    "ax1.hist(np.array(dist_logger_MC.d).reshape(-1, 1), bins = 40, color = \"red\")\n",
    "ax1.tick_params(axis='y')\n",
    "\n",
    "\n",
    "ax2.plot(x,y, color = \"blue\")\n",
    "ax2.set_ylabel(\"Bond Energy\", color=\"blue\")\n",
    "ax2.tick_params(axis='y')"
   ]
  },
  {
   "cell_type": "code",
   "execution_count": null,
   "metadata": {},
   "outputs": [],
   "source": [
    "dist_logger_MC.d[-1]"
   ]
  },
  {
   "cell_type": "code",
   "execution_count": null,
   "metadata": {},
   "outputs": [],
   "source": [
    "system_MC.integrator.sigma"
   ]
  },
  {
   "cell_type": "markdown",
   "metadata": {},
   "source": [
    "# Dimer in LJ Bath w/o PBC"
   ]
  },
  {
   "cell_type": "code",
   "execution_count": null,
   "metadata": {},
   "outputs": [],
   "source": [
    "system_MD2 = system_builder.build_system(dim = 2, T = 1, rho = 1, N = 36, potential = \"LJ-rep\", sigma = 1, epsilon = 1, r_c = 2, boundary_conditions = \"none\")\n",
    "system_builder.add_central_potential(system_MD2, \"harmonic_box\", l_box = system_MD2.box, k_box = 100)\n",
    "system_MD2.add_bond(potentials.DoubleWellPotential1D(1.5, 25, 10, -0.5), system_MD2.particles[0], system_MD2.particles[1])\n",
    "system_MD2.bonds[0].particle_interactions = False"
   ]
  },
  {
   "cell_type": "code",
   "execution_count": null,
   "metadata": {},
   "outputs": [],
   "source": [
    "system_MD2.get_integrator(\"verlet_neighbors\", dt = 0.001, r_nl = 2.5)\n",
    "system_MD2.get_thermostat(\"anderson\", T = 1, colisions = 0.01, freq = 100)"
   ]
  },
  {
   "cell_type": "code",
   "execution_count": null,
   "metadata": {},
   "outputs": [],
   "source": [
    "coordinate_logger_MD2 = data_logging.CoordinateLogger(system_MD2, 50)\n",
    "energy_logger_MD2 = data_logging.EnergyLogger(system_MD2, 100)\n",
    "temp_logger_MD2 = data_logging.TemperatureLogger(system_MD2, 100)\n",
    "dist_logger_MD2 = data_logging.DistanceLogger(system_MD2, 100)\n",
    "system_MD2.registerObserver(coordinate_logger_MD2)\n",
    "system_MD2.registerObserver(energy_logger_MD2)\n",
    "system_MD2.registerObserver(temp_logger_MD2)\n",
    "system_MD2.registerObserver(dist_logger_MD2)"
   ]
  },
  {
   "cell_type": "code",
   "execution_count": null,
   "metadata": {},
   "outputs": [],
   "source": [
    "system_MD2.run(100000)"
   ]
  },
  {
   "cell_type": "code",
   "execution_count": null,
   "metadata": {},
   "outputs": [],
   "source": [
    "plt.figure(figsize = [7,5])\n",
    "plt.scatter(*system_MD2.get_coordinates().T, s = 400)\n",
    "plt.plot([system_MD2.particles[0].loc[0], system_MD2.particles[1].loc[0]], [system_MD2.particles[0].loc[1], system_MD2.particles[1].loc[1]], lw = 10)\n",
    "plt.xlabel(\"X axis\")\n",
    "plt.ylabel(\"Y axis\")"
   ]
  },
  {
   "cell_type": "code",
   "execution_count": null,
   "metadata": {},
   "outputs": [],
   "source": [
    "x_traj = np.array(coordinate_logger_MD2.coordinates)\n",
    "print(x_traj.shape)\n",
    "visuals.make_2D_traj(x_traj, system_MD2.box, markersize= 30, color = \"red\")"
   ]
  },
  {
   "cell_type": "code",
   "execution_count": null,
   "metadata": {},
   "outputs": [],
   "source": [
    "system_MD2.box"
   ]
  },
  {
   "cell_type": "code",
   "execution_count": null,
   "metadata": {},
   "outputs": [],
   "source": [
    "plt.plot(energy_logger_MD2.steps, energy_logger_MD2.U)\n",
    "plt.plot(energy_logger_MD2.steps, energy_logger_MD2.K)\n",
    "plt.plot(energy_logger_MD2.steps, energy_logger_MD2.H)\n",
    "plt.legend([\"Total\", \"Potential\", \"Kinetic\"])\n",
    "plt.xlabel(\"Time Steps\")\n",
    "plt.ylabel(\"Energy\")"
   ]
  },
  {
   "cell_type": "code",
   "execution_count": null,
   "metadata": {},
   "outputs": [],
   "source": [
    "system_MD2.get_energy()"
   ]
  },
  {
   "cell_type": "code",
   "execution_count": null,
   "metadata": {},
   "outputs": [],
   "source": [
    "x = np.linspace(0.5, 2.5, 30)\n",
    "y = np.array([system_MD2.bonds[0].potential(x)]).reshape(-1)\n",
    "fig, ax1 = plt.subplots()\n",
    "ax2 = ax1.twinx()\n",
    "ax1.set_xlabel(\"Dimer Distance\")\n",
    "ax1.set_ylabel(\"Counts\", color = \"red\")\n",
    "ax1.hist(np.array(dist_logger_MD2.d).reshape(-1, 1), bins = 40, color = \"red\")\n",
    "ax1.tick_params(axis='y')\n",
    "\n",
    "\n",
    "ax2.plot(x,y, color = \"blue\")\n",
    "ax2.set_ylabel(\"Bond Energy\", color=\"blue\")\n",
    "ax2.tick_params(axis='y')"
   ]
  },
  {
   "cell_type": "code",
   "execution_count": null,
   "metadata": {},
   "outputs": [],
   "source": []
  }
 ],
 "metadata": {
  "kernelspec": {
   "display_name": "Python 3",
   "language": "python",
   "name": "python3"
  },
  "language_info": {
   "codemirror_mode": {
    "name": "ipython",
    "version": 3
   },
   "file_extension": ".py",
   "mimetype": "text/x-python",
   "name": "python",
   "nbconvert_exporter": "python",
   "pygments_lexer": "ipython3",
   "version": "3.7.3"
  }
 },
 "nbformat": 4,
 "nbformat_minor": 2
}
