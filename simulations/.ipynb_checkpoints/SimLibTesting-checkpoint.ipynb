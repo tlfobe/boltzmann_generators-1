{
 "cells": [
  {
   "cell_type": "markdown",
   "metadata": {},
   "source": [
    "### Testing Simulation Library"
   ]
  },
  {
   "cell_type": "code",
   "execution_count": 1,
   "metadata": {},
   "outputs": [],
   "source": [
    "import simulation_library\n",
    "import potentials\n",
    "import integrators\n",
    "import data_logging\n",
    "import numpy as np\n",
    "import matplotlib.pyplot as plt\n",
    "import matplotlib.animation as animation\n",
    "import visuals\n",
    "\n",
    "%matplotlib inline\n",
    "system_builder = simulation_library.SystemFactory()"
   ]
  },
  {
   "cell_type": "code",
   "execution_count": 2,
   "metadata": {},
   "outputs": [],
   "source": [
    "system = simulation_library.System(dim = 2)\n",
    "system.central_potential = potentials.DoubleWellPotential(a = 1,\n",
    "                                                          b = 1,\n",
    "                                                          c = 6,\n",
    "                                                          d = 1)\n",
    "system.add_particle(simulation_library.Particle(None, np.array([0,0])))\n",
    "system.get_integrator(\"metropolis\", None, temp = 1)\n",
    "coords_logger = data_logging.CoordinateLogger(system, 100)\n",
    "energy_logger = data_logging.EnergyLogger(system, 100)\n"
   ]
  },
  {
   "cell_type": "code",
   "execution_count": null,
   "metadata": {},
   "outputs": [],
   "source": []
  }
 ],
 "metadata": {
  "kernelspec": {
   "display_name": "Python 3",
   "language": "python",
   "name": "python3"
  },
  "language_info": {
   "codemirror_mode": {
    "name": "ipython",
    "version": 3
   },
   "file_extension": ".py",
   "mimetype": "text/x-python",
   "name": "python",
   "nbconvert_exporter": "python",
   "pygments_lexer": "ipython3",
   "version": "3.7.3"
  }
 },
 "nbformat": 4,
 "nbformat_minor": 2
}
